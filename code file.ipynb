{
  "nbformat": 4,
  "nbformat_minor": 0,
  "metadata": {
    "colab": {
      "provenance": []
    },
    "kernelspec": {
      "name": "python3",
      "display_name": "Python 3"
    },
    "language_info": {
      "name": "python"
    }
  },
  "cells": [
    {
      "cell_type": "code",
      "source": [
        "def encrypt(plain_text, key):\n",
        "    cipher_text = \"\"\n",
        "    for char in plain_text:\n",
        "        if char.isalpha():\n",
        "            # Convert to uppercase to have a consistent range\n",
        "            char = char.upper()\n",
        "            # Apply the multiplicative cipher formula\n",
        "            encrypted_char = chr(((ord(char) - ord('A')) * key) % 26 + ord('A'))\n",
        "            cipher_text += encrypted_char\n",
        "        else:\n",
        "            # If the character is not a letter, leave it unchanged\n",
        "            cipher_text += char\n",
        "    return cipher_text\n",
        "\n",
        "def decrypt(cipher_text, key):\n",
        "    plain_text = \"\"\n",
        "    # Calculate the modular multiplicative inverse of the key\n",
        "    key_inverse = pow(key, -1, 26)\n",
        "    for char in cipher_text:\n",
        "        if char.isalpha():\n",
        "            char = char.upper()\n",
        "            # Apply the multiplicative cipher decryption formula\n",
        "            decrypted_char = chr(((ord(char) - ord('A')) * key_inverse) % 26 + ord('A'))\n",
        "            plain_text += decrypted_char\n",
        "        else:\n",
        "            plain_text += char\n",
        "    return plain_text\n",
        "\n",
        "# Example\n",
        "plain_text = \"Our reconnaissance units have successfully identified enemy positions near our border.We are preparing to launch a counterattack at dawn. All units are to be ready for deployment by 0400 hours. Coordinates for the assault have been distributed to all division commanders. Maintain radio silence until further notice.\"\n",
        "key = 7\n",
        "\n",
        "# Encryption\n",
        "cipher_text = encrypt(plain_text, key)\n",
        "print(\"Encrypted:\", cipher_text)\n",
        "\n",
        "# Decryption\n",
        "decrypted_text = decrypt(cipher_text, key)\n",
        "print(\"Decrypted:\", decrypted_text)\n"
      ],
      "metadata": {
        "colab": {
          "base_uri": "https://localhost:8080/"
        },
        "id": "f7ZzkzbRUKrS",
        "outputId": "14d92ea9-fa94-4bef-8452-fed3767c317b"
      },
      "execution_count": null,
      "outputs": [
        {
          "output_type": "stream",
          "name": "stdout",
          "text": [
            "Encrypted: UKP PCOUNNAEWWANOC KNEDW XARC WKOOCWWJKZZM EVCNDEJECV CNCGM BUWEDEUNW NCAP UKP HUPVCP. YC APC BPCBAPENQ DU ZAKNOX A OUKNDCPADDAOS AD VAYN. AZZ KNEDW APC DU HC PCAVM JUP VCBZUMGCND HM 0400 XUKPW. OUUPVENADCW JUP DXC AWWAKZD XARC HCCN VEWDPEHKDCV DU AZZ VEREWEUN OUGGANVCPW. GAENDAEN PAVEU WEZCNOC KNDEZ JKPDXCP NUDEOC.\n",
            "Decrypted: OUR RECONNAISSANCE UNITS HAVE SUCCESSFULLY IDENTIFIED ENEMY POSITIONS NEAR OUR BORDER. WE ARE PREPARING TO LAUNCH A COUNTERATTACK AT DAWN. ALL UNITS ARE TO BE READY FOR DEPLOYMENT BY 0400 HOURS. COORDINATES FOR THE ASSAULT HAVE BEEN DISTRIBUTED TO ALL DIVISION COMMANDERS. MAINTAIN RADIO SILENCE UNTIL FURTHER NOTICE.\n"
          ]
        }
      ]
    }
  ]
}